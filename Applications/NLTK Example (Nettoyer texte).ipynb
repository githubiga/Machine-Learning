{
 "cells": [
  {
   "cell_type": "markdown",
   "id": "bf7fc2fe",
   "metadata": {},
   "source": [
    "# NLTK Examples"
   ]
  },
  {
   "cell_type": "code",
   "execution_count": 2,
   "id": "0fa2efd6",
   "metadata": {},
   "outputs": [],
   "source": [
    "#Importer les modules nécessaires\n",
    "import nltk\n",
    "from nltk.corpus import stopwords\n",
    "from nltk import stem\n",
    "from nltk.tokenize import word_tokenize\n",
    "import string"
   ]
  },
  {
   "cell_type": "code",
   "execution_count": 3,
   "id": "1b8a3526",
   "metadata": {},
   "outputs": [
    {
     "name": "stdout",
     "output_type": "stream",
     "text": [
      "Liste initiale: ['text', 'mining', ',', 'is', 'an', 'automatic', 'process', '?', 'that', 'uses', 'natural', 'language', '!', 'processing', 'to', 'extract', 'valuable', 'insights', 'from', 'unstructured', 'text', '.']\n",
      "---------------------------------------------\n",
      "Mots sans ponctuations: ['text', 'mining', 'is', 'an', 'automatic', 'process', 'that', 'uses', 'natural', 'language', 'processing', 'to', 'extract', 'valuable', 'insights', 'from', 'unstructured', 'text']\n",
      "---------------------------------------------\n",
      "Mots sans stop words: ['text', 'mining', 'automatic', 'process', 'uses', 'natural', 'language', 'processing', 'extract', 'valuable', 'insights', 'unstructured', 'text']\n",
      "---------------------------------------------\n",
      "Liste des stem: ['text', 'mine', 'automat', 'process', 'use', 'natur', 'languag', 'process', 'extract', 'valuabl', 'insight', 'unstructur', 'text']\n"
     ]
    }
   ],
   "source": [
    "phrase = \"\"\"\n",
    "Text mining, is an automatic process? that \n",
    "uses natural Language! Processing to extract \n",
    "valuable insights from unstructured text.\n",
    "\"\"\"\n",
    "#Liste de stopwords\n",
    "stop_words=set(stopwords.words('english'))\n",
    "phrase = phrase.lower()#Convertir la phrase en minuscule\n",
    "mots1 = word_tokenize(phrase) #Liste de tous les mots\n",
    "print(\"Liste initiale:\",mots1)\n",
    "print(\"---------------------------------------------\")\n",
    "mots2 = [] # stocker les mots sans ponctuations\n",
    "for m in mots1:\n",
    "    if m not in string.punctuation:\n",
    "        mots2.append(m)\n",
    "print(\"Mots sans ponctuations:\",mots2)\n",
    "print(\"---------------------------------------------\")\n",
    "mots3 = [] #mots sans stop words\n",
    "for m in mots2:\n",
    "    if m not in stop_words:\n",
    "        mots3.append(m)\n",
    "print(\"Mots sans stop words:\",mots3)\n",
    "print(\"---------------------------------------------\")\n",
    "mots4=[] #liste des stem (racines)\n",
    "porter = stem.porter.PorterStemmer()\n",
    "for word in mots3:\n",
    "    mots4.append(porter.stem(word))\n",
    "print(\"Liste des stem:\",mots4)"
   ]
  },
  {
   "cell_type": "markdown",
   "id": "c5462fd7",
   "metadata": {},
   "source": [
    "## Fonctions pour nettoyer un texte"
   ]
  },
  {
   "cell_type": "code",
   "execution_count": 4,
   "id": "c9c03a48",
   "metadata": {},
   "outputs": [],
   "source": [
    "#Convertir une phrase en minuscule\n",
    "def minuscule(phrase):\n",
    "    return phrase.lower()"
   ]
  },
  {
   "cell_type": "code",
   "execution_count": 5,
   "id": "38359074",
   "metadata": {},
   "outputs": [],
   "source": [
    "#Tokenization : segmentation du texte en mots\n",
    "def tokenization(phrase):\n",
    "    result = word_tokenize(phrase)\n",
    "    return result"
   ]
  },
  {
   "cell_type": "code",
   "execution_count": 6,
   "id": "5356ea53",
   "metadata": {},
   "outputs": [],
   "source": [
    "#Eliminer la ponctuations d'une phrase\n",
    "def eliminer_ponctuation(phrase):\n",
    "    result = [] # stocker les mots sans ponctuations\n",
    "    for m in tokenization(phrase):\n",
    "        if m not in string.punctuation:\n",
    "            result.append(m)\n",
    "    return result"
   ]
  },
  {
   "cell_type": "code",
   "execution_count": 7,
   "id": "88712642",
   "metadata": {},
   "outputs": [],
   "source": [
    "#Eliminer les stopwords\n",
    "def eliminer_stopwords(phrase):\n",
    "    result = [] #mots sans stop words\n",
    "    for m in eliminer_ponctuation(phrase):\n",
    "        if m not in stop_words:\n",
    "            result.append(m)\n",
    "    return result"
   ]
  },
  {
   "cell_type": "code",
   "execution_count": 8,
   "id": "791827ac",
   "metadata": {},
   "outputs": [],
   "source": [
    "\"\"\"\n",
    "Nettoyage du texte : \n",
    "1. convertir en minuscule\n",
    "2. Tokenization\n",
    "3. Elimination de la ponctuation\n",
    "4. Elimination des stopwords\n",
    "5. Stemming (avec Porter stemmer)\n",
    "\"\"\"\n",
    "def clean(phrase):\n",
    "    result=[] #liste des stem (racines)\n",
    "    for word in eliminer_stopwords(phrase):\n",
    "        result.append(porter.stem(word))\n",
    "    return result"
   ]
  },
  {
   "cell_type": "code",
   "execution_count": 9,
   "id": "dd0327e5",
   "metadata": {},
   "outputs": [
    {
     "name": "stdout",
     "output_type": "stream",
     "text": [
      "Donnez le texte à nettoyer :I have been here for long long time!!!\n"
     ]
    },
    {
     "data": {
      "text/plain": [
       "['i', 'long', 'long', 'time']"
      ]
     },
     "execution_count": 9,
     "metadata": {},
     "output_type": "execute_result"
    }
   ],
   "source": [
    "phrase = input(\"Donnez le texte à nettoyer :\")\n",
    "clean(phrase)"
   ]
  },
  {
   "cell_type": "code",
   "execution_count": 16,
   "id": "eb879bae",
   "metadata": {},
   "outputs": [
    {
     "data": {
      "text/plain": [
       "\"Java is a high-level object-oriented programming language developed by Sun Microsystems (now owned by Oracle). It is designed to be platform-independent, meaning that Java programs can run on any device or operating system that has a Java Virtual Machine installed. It is widely used in web development, mobile application development, enterprise applications, and other domains. Java's syntax is similar to C++, making it relatively easy for developers to learn if they are familiar with other programming languages.\""
      ]
     },
     "execution_count": 16,
     "metadata": {},
     "output_type": "execute_result"
    }
   ],
   "source": [
    "f = open(\"text_to_clean.txt\",'r')\n",
    "data = f.read()\n",
    "f.close()\n",
    "data"
   ]
  },
  {
   "cell_type": "code",
   "execution_count": 17,
   "id": "e8dcd00c",
   "metadata": {},
   "outputs": [
    {
     "data": {
      "text/plain": [
       "['java',\n",
       " 'high-level',\n",
       " 'object-ori',\n",
       " 'program',\n",
       " 'languag',\n",
       " 'develop',\n",
       " 'sun',\n",
       " 'microsystem',\n",
       " 'own',\n",
       " 'oracl',\n",
       " 'it',\n",
       " 'design',\n",
       " 'platform-independ',\n",
       " 'mean',\n",
       " 'java',\n",
       " 'program',\n",
       " 'run',\n",
       " 'devic',\n",
       " 'oper',\n",
       " 'system',\n",
       " 'java',\n",
       " 'virtual',\n",
       " 'machin',\n",
       " 'instal',\n",
       " 'it',\n",
       " 'wide',\n",
       " 'use',\n",
       " 'web',\n",
       " 'develop',\n",
       " 'mobil',\n",
       " 'applic',\n",
       " 'develop',\n",
       " 'enterpris',\n",
       " 'applic',\n",
       " 'domain',\n",
       " 'java',\n",
       " \"'s\",\n",
       " 'syntax',\n",
       " 'similar',\n",
       " 'c++',\n",
       " 'make',\n",
       " 'rel',\n",
       " 'easi',\n",
       " 'develop',\n",
       " 'learn',\n",
       " 'familiar',\n",
       " 'program',\n",
       " 'languag']"
      ]
     },
     "execution_count": 17,
     "metadata": {},
     "output_type": "execute_result"
    }
   ],
   "source": [
    "clean(data)"
   ]
  }
 ],
 "metadata": {
  "kernelspec": {
   "display_name": "Python 3",
   "language": "python",
   "name": "python3"
  },
  "language_info": {
   "codemirror_mode": {
    "name": "ipython",
    "version": 3
   },
   "file_extension": ".py",
   "mimetype": "text/x-python",
   "name": "python",
   "nbconvert_exporter": "python",
   "pygments_lexer": "ipython3",
   "version": "3.8.8"
  }
 },
 "nbformat": 4,
 "nbformat_minor": 5
}
