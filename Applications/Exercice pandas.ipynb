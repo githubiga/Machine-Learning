{
 "cells": [
  {
   "cell_type": "markdown",
   "metadata": {},
   "source": [
    "# Langage Python : Pratique de pandas\n",
    "\n",
    "Email : <a href='mailto:madani.a@ucd.ac.ma'>madani.a@ucd.ac.ma</a>\n",
    "<img src='images/pandas.jpg'>"
   ]
  },
  {
   "cell_type": "markdown",
   "metadata": {},
   "source": [
    "<ol>\n",
    "<li>Créer un DataFrame à partir du fichier Excel contenant le dataset 'Titanic.xls'\n",
    "<li>Afficher les dimensions du DataFrame\n",
    "<li>Afficher les noms des colonnes\n",
    "<li>Afficher les trois premières lignes du DataFrame\n",
    "<li>Afficher les six dernières lignes du DataFrame\n",
    "<li>Créer un autre DataFrame contenant  seulement 'pclass', 'survived', 'sex' et 'age'\n",
    "<li>Afficher les statistiques de base\n",
    "<li>Jeter un coup d'oeil à la ligne 'count'. Que remarquez-vous ?\n",
    "<li>Afficher les lignes ayant des valeurs manquantes dans l'âge\n",
    "<li>Remplacer les valeurs manquante par une valeur donnée\n",
    "<li>Remplacer les valeurs manquantes par la moyenne\n",
    "<li>Elimner les lignes dans lesquelles il nous manque l'âge\n",
    "<li>Afficher les dimensions\n",
    "<li>Afficher les statistiques\n",
    "<li>Afficher le nombre de personnes de la 1ère, la 2ème et la 3ème classe\n",
    "<li>Représenter sous forme de graphe le nombre de personnes pour chaque classe\n",
    "<li>Représenter sous forme d'histogramme la répartition des âges\n",
    "<li>Regrouper les gens selon leur sexe. Quelle est la moyenne des âges, le pourcentage des survivants de chaque sexe\n",
    "<li>Regrouper les passagers par sexe et par classe. Quel est le pourcentage des survivants par sexe et par classe\n",
    "<li>Changer les index par les noms des passagers\n",
    "<li>Afficher les passagers mineurs\n",
    "<li>Regrouper les passagers mineurs par sexe et par classe.\n",
    "</ol>    "
   ]
  }
 ],
 "metadata": {
  "kernelspec": {
   "display_name": "Python 3",
   "language": "python",
   "name": "python3"
  },
  "language_info": {
   "codemirror_mode": {
    "name": "ipython",
    "version": 3
   },
   "file_extension": ".py",
   "mimetype": "text/x-python",
   "name": "python",
   "nbconvert_exporter": "python",
   "pygments_lexer": "ipython3",
   "version": "3.8.8"
  }
 },
 "nbformat": 4,
 "nbformat_minor": 4
}
