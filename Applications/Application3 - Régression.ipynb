{
 "cells": [
  {
   "cell_type": "markdown",
   "id": "481fd81d",
   "metadata": {},
   "source": [
    "# Premiers pas avec Scikit-learn\n",
    "**Application 3** : Régression avec la **La régression linéaire**\n",
    "<br>\n",
    "Email : <a href='mailto:madani.a@ucd.ac.ma'>madani.a@ucd.ac.ma</a>\n",
    "<img src='../images/robot.png'>"
   ]
  },
  {
   "cell_type": "markdown",
   "id": "b0693340",
   "metadata": {},
   "source": [
    "L'objectif de cette application est d'appliquer l'algorithme de régression linéaire sur des données générées aléatoirement en utilisant la fonction **make_regression()** du module **sklearn.datasets**."
   ]
  },
  {
   "cell_type": "markdown",
   "id": "250c62a9",
   "metadata": {},
   "source": [
    "Commencez par importer la fonction **make_regression()**"
   ]
  },
  {
   "cell_type": "code",
   "execution_count": 54,
   "id": "14582789",
   "metadata": {},
   "outputs": [],
   "source": [
    "from sklearn.datasets import make_regression"
   ]
  },
  {
   "cell_type": "markdown",
   "id": "806fe2c4",
   "metadata": {},
   "source": [
    "Ensuite, générer plusieurs echantillons (samples), chacun ayant une seule caractéristique (feature) :"
   ]
  },
  {
   "cell_type": "code",
   "execution_count": 55,
   "id": "f2b77dd2",
   "metadata": {},
   "outputs": [],
   "source": [
    "X, y = make_regression(n_samples=100, n_features=1, noise=5)"
   ]
  },
  {
   "cell_type": "markdown",
   "id": "74030bbb",
   "metadata": {},
   "source": [
    "Répondre aux questions suivantes :\n",
    "\n",
    "1. Générer plusieurs echantillons (samples), chacun ayant une seule caractéristique (feature)\n",
    "\n",
    "2. Afficher les structures de X et y\n",
    "\n",
    "3. Représenter graphiquement X en fonction de y sous forme d'un nuage de points\n",
    "\n",
    "4. Diviser les données en un ensemble de formation (training dataset) et un ensemble de test (test dataset). Par exemple, 85% pour l'entrainement et 15% pour le test\n",
    "\n",
    "5. Utiliser l'algorithme de régression linéaire pour entrainer votre modèle\n",
    "\n",
    "6. Faites des prédictions sur les données de test\n",
    "\n",
    "7. Evaluer votre modèle à l'aide du MAE (Mean Absolute Error), MSE (Mean Squared Error), RMSE (Root Mean Squared Error) et R<sup>2</sup> (R Squared Error)\n",
    "\n",
    "8. Représenter la droite de régression linéaire sur le nuage de points générés précédemment dans la question 1."
   ]
  },
  {
   "cell_type": "code",
   "execution_count": null,
   "id": "0870648b",
   "metadata": {},
   "outputs": [],
   "source": []
  }
 ],
 "metadata": {
  "kernelspec": {
   "display_name": "Python 3",
   "language": "python",
   "name": "python3"
  },
  "language_info": {
   "codemirror_mode": {
    "name": "ipython",
    "version": 3
   },
   "file_extension": ".py",
   "mimetype": "text/x-python",
   "name": "python",
   "nbconvert_exporter": "python",
   "pygments_lexer": "ipython3",
   "version": "3.8.8"
  }
 },
 "nbformat": 4,
 "nbformat_minor": 5
}
