{
 "cells": [
  {
   "cell_type": "markdown",
   "id": "219a636b",
   "metadata": {},
   "source": [
    "# Premiers pas avec Scikit-learn\n",
    "**Application 4** : Clustering avec la **KMeans**\n",
    "<br>\n",
    "Email : <a href='mailto:madani.a@ucd.ac.ma'>madani.a@ucd.ac.ma</a>\n",
    "<img src='../images/robot.png'>"
   ]
  },
  {
   "cell_type": "markdown",
   "id": "07d97490",
   "metadata": {},
   "source": [
    "**Objectif** : Cette application vous aidera à comprendre comment appliquer le clustering KMeans à un ensemble de données et à visualiser les résultats. Elle permet de fournir une introduction de base au clustering KMeans à l'aide de Scikit-Learn et inclut la génération de données synthétiques pour la visualisation. Les participants peuvent expérimenter différents nombres de clusters et caractéristiques d'ensembles de données pour voir comment se comporte le clustering KMeans."
   ]
  },
  {
   "cell_type": "markdown",
   "id": "0541a4c9",
   "metadata": {},
   "source": [
    "**Note**\n",
    "<p>\n",
    "    Pour générer un ensemble de données synthétiques (données aléatoires pour faire des tests), vous pouvez utiliser :\n",
    "    <ul>\n",
    "        <li><b>numpy.random.rand(#lignes, #colonnes)</b> : pour générer un tableau Numpy 2D, les valeurs étant comprises entre 0 (inclu) et 1 (exclu).</li>\n",
    "        <li><b>from sklearn.datasets import make_blobs</b><br>\n",
    "            <b>data, true_labels = make_blobs(n_samples=300, centers=3, cluster_std=1.0)</b> : cette fonction peut être utilisé pour générer des ensembles de données synthétiques pour les tâches de clustering et de classification, où :\n",
    "\n",
    "1. **n_samples** est le nombre total de points de données que vous souhaitez dans votre ensemble de données.\n",
    "\n",
    "2. **centers** spécifie le nombre de clusters que vous souhaitez créer.\n",
    "\n",
    "3. <b>cluster_std</b> contrôle l'écart type des clusters. Des valeurs plus petites rendent les clusters plus serrés, tandis que des valeurs plus grandes les rendent plus dispersés.\n",
    "                \n",
    "            \n",
    "</li>\n",
    "        </ul>\n",
    "    </p>"
   ]
  },
  {
   "cell_type": "markdown",
   "id": "ee845b92",
   "metadata": {},
   "source": [
    "1. Importez les bibliothèques nécessaires.\n",
    "2. Générez un ensemble de données synthétiques. Nous utiliserons numpy.random.rand()/make_blobs() pour créer un ensemble de données avec des clusters distincts. C'est juste pour la pratique ; dans des applications réelles, vous utiliseriez vos propres données.\n",
    "3. initialiser et entraîner un modèle de clustering KMeans aux données.\n",
    "4. Obtenez les affectations de cluster pour chaque point de données.\n",
    "5. Visualisez les points de données et les centroïdes de cluster.\n",
    "6. Evaluer votre modèle en utilisant la mesure d'inertie. L'inertie mesure la distance totale entre les points de données et le centre de gravité de leur cluster attribué. Une inertie plus faible indique que les points de données sont plus proches du centre de leur propre cluster, ce qui implique une meilleure solution de clustering."
   ]
  }
 ],
 "metadata": {
  "kernelspec": {
   "display_name": "Python 3",
   "language": "python",
   "name": "python3"
  },
  "language_info": {
   "codemirror_mode": {
    "name": "ipython",
    "version": 3
   },
   "file_extension": ".py",
   "mimetype": "text/x-python",
   "name": "python",
   "nbconvert_exporter": "python",
   "pygments_lexer": "ipython3",
   "version": "3.8.8"
  }
 },
 "nbformat": 4,
 "nbformat_minor": 5
}
