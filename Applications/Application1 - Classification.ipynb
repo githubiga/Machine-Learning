{
 "cells": [
  {
   "cell_type": "markdown",
   "id": "3e337b8f",
   "metadata": {},
   "source": [
    "# Premiers pas avec Scikit-learn\n",
    "**Application 1** : Classification des fleurs Iris en utilisant k-Nearest Neighbours (k-NN)\n",
    "<br>\n",
    "Email : <a href='mailto:madani.a@ucd.ac.ma'>madani.a@ucd.ac.ma</a>\n",
    "<img src='../images/robot.png'>"
   ]
  },
  {
   "cell_type": "markdown",
   "id": "51f181f8",
   "metadata": {},
   "source": [
    "## Objectif "
   ]
  },
  {
   "cell_type": "markdown",
   "id": "baddd6d7",
   "metadata": {},
   "source": [
    "Le but de cet exercice est d'utiliser l'algorithme k-Nearest Neighbours pour classer les fleurs d'iris en fonction de leurs caractéristiques."
   ]
  },
  {
   "cell_type": "markdown",
   "id": "44e67d88",
   "metadata": {},
   "source": [
    "## Rappel"
   ]
  },
  {
   "cell_type": "markdown",
   "id": "1d6f5050",
   "metadata": {},
   "source": [
    "**Iris**  est l'un exemple des datasets les plus utilisé. Les données comprennent les caractéristiques des fleurs Iris: longueur du sépale en cm, largeur du sépale en cm, longueur du pétale en cm et largeur du pétale. Les classes cibles à prédire sont l'iris setosa, l'iris versicolour et la virginica.\n",
    "</p>\n",
    "<img src=\"../images/iris.png\">\n",
    "<p>\n",
    "Le dataset Iris, composé de 150 échantillons (samples, exemples) et 4 caractéristiques (features). On peut alors la représenter comme une matrice 150 x 4, comme le montre la figure ci-dessous :\n",
    "</p>\n",
    "<img src=\"../images/matrice.png\">\n",
    "<p>\n",
    "De la même manière, le vecteur de classes (labels) peut être représenté comme-suit :\n",
    "</p>\n",
    "<img src=\"../images/labels.png\">\n",
    "<p>"
   ]
  },
  {
   "cell_type": "markdown",
   "id": "56fd0a61",
   "metadata": {},
   "source": [
    "## Travail à faire"
   ]
  },
  {
   "cell_type": "markdown",
   "id": "524ce2d3",
   "metadata": {},
   "source": [
    "1. Chargez l'ensemble de données Iris et stockez-le dans une variable nommée « iris »."
   ]
  },
  {
   "cell_type": "markdown",
   "id": "f2630638",
   "metadata": {},
   "source": [
    "2. Affichez les fonctionnalités et leurs noms de fonctionnalités correspondants. Cela aidera les étudiants à comprendre la structure et les caractéristiques de l'ensemble de données."
   ]
  },
  {
   "cell_type": "markdown",
   "id": "5d179437",
   "metadata": {},
   "source": [
    "3. Affichez les dix premiers échantillons (lignes) de l'ensemble de données, ce qui donnera un premier aperçu des données."
   ]
  },
  {
   "cell_type": "markdown",
   "id": "6ab0bbde",
   "metadata": {},
   "source": [
    "4. Effectuez les étapes suivantes pour terminer l'exercice :\n",
    "\n",
    "   a . Divisez l'ensemble de données en fonctionnalités (X) et en variable cible (y).\n",
    "   \n",
    "   b. Divisez les données en ensembles de formation et de tests (par exemple, 80 % de formation, 20 % de tests).\n",
    "\n",
    "   c. Choisissez l'algorithme k-NN et entraînez le modèle à l'aide des données d'entraînement.\n",
    "\n",
    "   d. Faites des prédictions sur les données de test.\n",
    "\n",
    "   e. Évaluez les performances du modèle à l’aide de la précision ou d’autres mesures de classification pertinentes.\n",
    "\n",
    "   F. Expérimentez avec différentes valeurs de « k » pour voir comment cela affecte les performances du modèle.\n",
    "\n",
    "   g. Visualisez les résultats, tels que la limite de décision pour différentes valeurs « k »."
   ]
  }
 ],
 "metadata": {
  "kernelspec": {
   "display_name": "Python 3",
   "language": "python",
   "name": "python3"
  },
  "language_info": {
   "codemirror_mode": {
    "name": "ipython",
    "version": 3
   },
   "file_extension": ".py",
   "mimetype": "text/x-python",
   "name": "python",
   "nbconvert_exporter": "python",
   "pygments_lexer": "ipython3",
   "version": "3.8.8"
  }
 },
 "nbformat": 4,
 "nbformat_minor": 5
}
