{
 "cells": [
  {
   "cell_type": "markdown",
   "id": "a84e7774",
   "metadata": {},
   "source": [
    "# Premiers pas avec Scikit-learn\n",
    "**Application 1** : Classification des fleurs Iris en utilisant k-Nearest Neighbours (k-NN)\n",
    "<br>\n",
    "Email : <a href='mailto:madani.a@ucd.ac.ma'>madani.a@ucd.ac.ma</a>\n",
    "<img src='../images/robot.png'>"
   ]
  },
  {
   "cell_type": "markdown",
   "id": "ea038d96",
   "metadata": {},
   "source": [
    "## Objectif "
   ]
  },
  {
   "cell_type": "markdown",
   "id": "baddd6d7",
   "metadata": {},
   "source": [
    "Le but de cet exercice est d'utiliser l'algorithme k-Nearest Neighbours pour classer les fleurs d'iris en fonction de leurs caractéristiques."
   ]
  },
  {
   "cell_type": "markdown",
   "id": "06e54e45",
   "metadata": {},
   "source": [
    "## Rappel"
   ]
  },
  {
   "cell_type": "markdown",
   "id": "ea5267de",
   "metadata": {},
   "source": [
    "**Iris**  est l'un exemple des datasets les plus utilisé. Les données comprennent les caractéristiques des fleurs Iris: longueur du sépale en cm, largeur du sépale en cm, longueur du pétale en cm et largeur du pétale. Les classes cibles à prédire sont l'iris setosa, l'iris versicolour et la virginica.\n",
    "</p>\n",
    "<img src=\"../images/iris.png\">\n",
    "<p>\n",
    "Le dataset Iris, composé de 150 échantillons (samples, exemples) et 4 caractéristiques (features). On peut alors la représenter comme une matrice 150 x 4, comme le montre la figure ci-dessous :\n",
    "</p>\n",
    "<img src=\"../images/matrice.png\">\n",
    "<p>\n",
    "De la même manière, le vecteur de classes (labels) peut être représenté comme-suit :\n",
    "</p>\n",
    "<img src=\"../images/labels.png\">\n",
    "<p>"
   ]
  },
  {
   "cell_type": "markdown",
   "id": "4a70a5b8",
   "metadata": {},
   "source": [
    "## Travail à faire"
   ]
  },
  {
   "cell_type": "code",
   "execution_count": 42,
   "id": "88b5498e",
   "metadata": {},
   "outputs": [],
   "source": [
    "#importer les modules nécessaires\n",
    "from sklearn.datasets import load_iris\n",
    "from sklearn.metrics import accuracy_score\n",
    "from sklearn.model_selection import train_test_split\n",
    "from sklearn.neighbors import KNeighborsClassifier\n",
    "import matplotlib.pyplot as plt"
   ]
  },
  {
   "cell_type": "markdown",
   "id": "524ce2d3",
   "metadata": {},
   "source": [
    "1. Chargez l'ensemble de données Iris et stockez-le dans une variable nommée « iris »."
   ]
  },
  {
   "cell_type": "code",
   "execution_count": 13,
   "id": "86c5f91b",
   "metadata": {},
   "outputs": [
    {
     "data": {
      "text/plain": [
       "dict_keys(['data', 'target', 'frame', 'target_names', 'DESCR', 'feature_names', 'filename', 'data_module'])"
      ]
     },
     "execution_count": 13,
     "metadata": {},
     "output_type": "execute_result"
    }
   ],
   "source": [
    "iris = load_iris()\n",
    "iris.keys()"
   ]
  },
  {
   "cell_type": "markdown",
   "id": "f2630638",
   "metadata": {},
   "source": [
    "2. Affichez les fonctionnalités et leurs noms de fonctionnalités correspondants. Cela aidera les étudiants à comprendre la structure et les caractéristiques de l'ensemble de données."
   ]
  },
  {
   "cell_type": "code",
   "execution_count": 17,
   "id": "a90a3836",
   "metadata": {},
   "outputs": [
    {
     "name": "stdout",
     "output_type": "stream",
     "text": [
      "Features names: ['sepal length (cm)', 'sepal width (cm)', 'petal length (cm)', 'petal width (cm)']\n"
     ]
    }
   ],
   "source": [
    "X = iris.data\n",
    "y = iris.target\n",
    "print(\"Features names:\", iris.feature_names)"
   ]
  },
  {
   "cell_type": "markdown",
   "id": "5d179437",
   "metadata": {},
   "source": [
    "3. Affichez les dix premiers échantillons (lignes) de l'ensemble de données, ce qui donnera un premier aperçu des données."
   ]
  },
  {
   "cell_type": "code",
   "execution_count": 18,
   "id": "31df4904",
   "metadata": {},
   "outputs": [
    {
     "data": {
      "text/plain": [
       "array([[5.1, 3.5, 1.4, 0.2],\n",
       "       [4.9, 3. , 1.4, 0.2],\n",
       "       [4.7, 3.2, 1.3, 0.2],\n",
       "       [4.6, 3.1, 1.5, 0.2],\n",
       "       [5. , 3.6, 1.4, 0.2],\n",
       "       [5.4, 3.9, 1.7, 0.4],\n",
       "       [4.6, 3.4, 1.4, 0.3],\n",
       "       [5. , 3.4, 1.5, 0.2],\n",
       "       [4.4, 2.9, 1.4, 0.2],\n",
       "       [4.9, 3.1, 1.5, 0.1]])"
      ]
     },
     "execution_count": 18,
     "metadata": {},
     "output_type": "execute_result"
    }
   ],
   "source": [
    "X[0:10]"
   ]
  },
  {
   "cell_type": "markdown",
   "id": "6ab0bbde",
   "metadata": {},
   "source": [
    "4. Effectuez les étapes suivantes pour terminer l'exercice :\n",
    "\n",
    "   a . Divisez l'ensemble de données en fonctionnalités (X) et en variable cible (y).\n",
    "   \n",
    "   b. Divisez les données en ensembles de formation et de tests (par exemple, 80 % de formation, 20 % de tests).\n",
    "\n",
    "   c. Choisissez l'algorithme k-NN et entraînez le modèle à l'aide des données d'entraînement.\n",
    "\n",
    "   d. Faites des prédictions sur les données de test.\n",
    "\n",
    "   e. Évaluez les performances du modèle à l’aide de la précision ou d’autres mesures de classification pertinentes.\n",
    "\n",
    "   F. Expérimentez avec différentes valeurs de « k » pour voir comment cela affecte les performances du modèle.\n",
    "\n",
    "   g. Visualisez les résultats, tels que la limite de décision pour différentes valeurs « k »."
   ]
  },
  {
   "cell_type": "code",
   "execution_count": 20,
   "id": "5662be51",
   "metadata": {},
   "outputs": [],
   "source": [
    "#a.Divisez l'ensemble de données en fonctionnalités (X) et en variable cible (y).\n",
    "X = iris.data\n",
    "y = iris.target"
   ]
  },
  {
   "cell_type": "code",
   "execution_count": 22,
   "id": "a90a5a82",
   "metadata": {},
   "outputs": [
    {
     "name": "stdout",
     "output_type": "stream",
     "text": [
      "Dimension de X: (150, 4)\n",
      "Dimension de y: (150,)\n",
      "Dimension de Xtrain: (120, 4)\n",
      "Dimension de Xtest: (30, 4)\n",
      "Dimension de ytrain: (120,)\n",
      "Dimension de ytest: (30,)\n"
     ]
    }
   ],
   "source": [
    "#b. Divisez les données en ensembles de formation et de tests \n",
    "#(par exemple, 80 % de formation, 20 % de tests).\n",
    "Xtrain, Xtest, ytrain, ytest = train_test_split(X, y, test_size=0.2)\n",
    "print(\"Dimension de X:\",X.shape)\n",
    "print(\"Dimension de y:\",y.shape)\n",
    "print(\"Dimension de Xtrain:\",Xtrain.shape)\n",
    "print(\"Dimension de Xtest:\",Xtest.shape)\n",
    "print(\"Dimension de ytrain:\",ytrain.shape)\n",
    "print(\"Dimension de ytest:\",ytest.shape)"
   ]
  },
  {
   "cell_type": "code",
   "execution_count": 23,
   "id": "a46591ea",
   "metadata": {},
   "outputs": [
    {
     "data": {
      "text/html": [
       "<style>#sk-container-id-1 {color: black;background-color: white;}#sk-container-id-1 pre{padding: 0;}#sk-container-id-1 div.sk-toggleable {background-color: white;}#sk-container-id-1 label.sk-toggleable__label {cursor: pointer;display: block;width: 100%;margin-bottom: 0;padding: 0.3em;box-sizing: border-box;text-align: center;}#sk-container-id-1 label.sk-toggleable__label-arrow:before {content: \"▸\";float: left;margin-right: 0.25em;color: #696969;}#sk-container-id-1 label.sk-toggleable__label-arrow:hover:before {color: black;}#sk-container-id-1 div.sk-estimator:hover label.sk-toggleable__label-arrow:before {color: black;}#sk-container-id-1 div.sk-toggleable__content {max-height: 0;max-width: 0;overflow: hidden;text-align: left;background-color: #f0f8ff;}#sk-container-id-1 div.sk-toggleable__content pre {margin: 0.2em;color: black;border-radius: 0.25em;background-color: #f0f8ff;}#sk-container-id-1 input.sk-toggleable__control:checked~div.sk-toggleable__content {max-height: 200px;max-width: 100%;overflow: auto;}#sk-container-id-1 input.sk-toggleable__control:checked~label.sk-toggleable__label-arrow:before {content: \"▾\";}#sk-container-id-1 div.sk-estimator input.sk-toggleable__control:checked~label.sk-toggleable__label {background-color: #d4ebff;}#sk-container-id-1 div.sk-label input.sk-toggleable__control:checked~label.sk-toggleable__label {background-color: #d4ebff;}#sk-container-id-1 input.sk-hidden--visually {border: 0;clip: rect(1px 1px 1px 1px);clip: rect(1px, 1px, 1px, 1px);height: 1px;margin: -1px;overflow: hidden;padding: 0;position: absolute;width: 1px;}#sk-container-id-1 div.sk-estimator {font-family: monospace;background-color: #f0f8ff;border: 1px dotted black;border-radius: 0.25em;box-sizing: border-box;margin-bottom: 0.5em;}#sk-container-id-1 div.sk-estimator:hover {background-color: #d4ebff;}#sk-container-id-1 div.sk-parallel-item::after {content: \"\";width: 100%;border-bottom: 1px solid gray;flex-grow: 1;}#sk-container-id-1 div.sk-label:hover label.sk-toggleable__label {background-color: #d4ebff;}#sk-container-id-1 div.sk-serial::before {content: \"\";position: absolute;border-left: 1px solid gray;box-sizing: border-box;top: 0;bottom: 0;left: 50%;z-index: 0;}#sk-container-id-1 div.sk-serial {display: flex;flex-direction: column;align-items: center;background-color: white;padding-right: 0.2em;padding-left: 0.2em;position: relative;}#sk-container-id-1 div.sk-item {position: relative;z-index: 1;}#sk-container-id-1 div.sk-parallel {display: flex;align-items: stretch;justify-content: center;background-color: white;position: relative;}#sk-container-id-1 div.sk-item::before, #sk-container-id-1 div.sk-parallel-item::before {content: \"\";position: absolute;border-left: 1px solid gray;box-sizing: border-box;top: 0;bottom: 0;left: 50%;z-index: -1;}#sk-container-id-1 div.sk-parallel-item {display: flex;flex-direction: column;z-index: 1;position: relative;background-color: white;}#sk-container-id-1 div.sk-parallel-item:first-child::after {align-self: flex-end;width: 50%;}#sk-container-id-1 div.sk-parallel-item:last-child::after {align-self: flex-start;width: 50%;}#sk-container-id-1 div.sk-parallel-item:only-child::after {width: 0;}#sk-container-id-1 div.sk-dashed-wrapped {border: 1px dashed gray;margin: 0 0.4em 0.5em 0.4em;box-sizing: border-box;padding-bottom: 0.4em;background-color: white;}#sk-container-id-1 div.sk-label label {font-family: monospace;font-weight: bold;display: inline-block;line-height: 1.2em;}#sk-container-id-1 div.sk-label-container {text-align: center;}#sk-container-id-1 div.sk-container {/* jupyter's `normalize.less` sets `[hidden] { display: none; }` but bootstrap.min.css set `[hidden] { display: none !important; }` so we also need the `!important` here to be able to override the default hidden behavior on the sphinx rendered scikit-learn.org. See: https://github.com/scikit-learn/scikit-learn/issues/21755 */display: inline-block !important;position: relative;}#sk-container-id-1 div.sk-text-repr-fallback {display: none;}</style><div id=\"sk-container-id-1\" class=\"sk-top-container\"><div class=\"sk-text-repr-fallback\"><pre>KNeighborsClassifier()</pre><b>In a Jupyter environment, please rerun this cell to show the HTML representation or trust the notebook. <br />On GitHub, the HTML representation is unable to render, please try loading this page with nbviewer.org.</b></div><div class=\"sk-container\" hidden><div class=\"sk-item\"><div class=\"sk-estimator sk-toggleable\"><input class=\"sk-toggleable__control sk-hidden--visually\" id=\"sk-estimator-id-1\" type=\"checkbox\" checked><label for=\"sk-estimator-id-1\" class=\"sk-toggleable__label sk-toggleable__label-arrow\">KNeighborsClassifier</label><div class=\"sk-toggleable__content\"><pre>KNeighborsClassifier()</pre></div></div></div></div></div>"
      ],
      "text/plain": [
       "KNeighborsClassifier()"
      ]
     },
     "execution_count": 23,
     "metadata": {},
     "output_type": "execute_result"
    }
   ],
   "source": [
    "#c. Choisissez l'algorithme k-NN et entraînez \n",
    "#le modèle à l'aide des données d'entraînement.\n",
    "knn = KNeighborsClassifier()\n",
    "knn.fit(Xtrain, ytrain)"
   ]
  },
  {
   "cell_type": "code",
   "execution_count": 24,
   "id": "2cbd65a9",
   "metadata": {},
   "outputs": [
    {
     "data": {
      "text/plain": [
       "0.9666666666666667"
      ]
     },
     "execution_count": 24,
     "metadata": {},
     "output_type": "execute_result"
    }
   ],
   "source": [
    "#d. Faites des prédictions sur les données de test.\n",
    "knn.fit(Xtrain, ytrain)\n",
    "ypred = knn.predict(Xtest)\n",
    "accuracy_score(ypred, ytest)"
   ]
  },
  {
   "cell_type": "code",
   "execution_count": 36,
   "id": "d0e79760",
   "metadata": {},
   "outputs": [
    {
     "name": "stdout",
     "output_type": "stream",
     "text": [
      "0.9666666666666667\n",
      "1.0\n"
     ]
    }
   ],
   "source": [
    "#e. Évaluez les performances du modèle à \n",
    "#l’aide de la précision ou d’autres mesures de \n",
    "#classification pertinentes.\n",
    "knn1 = KNeighborsClassifier(n_neighbors=5)\n",
    "knn2 = KNeighborsClassifier(n_neighbors=13)\n",
    "knn1.fit(Xtrain, ytrain)\n",
    "ypred1 = knn1.predict(Xtest)\n",
    "print(accuracy_score(ypred1, ytest))\n",
    "knn2.fit(Xtrain, ytrain)\n",
    "ypred2 = knn2.predict(Xtest)\n",
    "print(accuracy_score(ypred2, ytest))"
   ]
  },
  {
   "cell_type": "code",
   "execution_count": 39,
   "id": "3adccf15",
   "metadata": {},
   "outputs": [
    {
     "name": "stdout",
     "output_type": "stream",
     "text": [
      "k: 3  score: 1.0\n",
      "k: 5  score: 0.9666666666666667\n",
      "k: 7  score: 0.9666666666666667\n",
      "k: 9  score: 0.9666666666666667\n",
      "k: 11  score: 0.9666666666666667\n",
      "k: 13  score: 1.0\n",
      "k: 15  score: 1.0\n",
      "k: 17  score: 0.9666666666666667\n",
      "k: 19  score: 1.0\n",
      "k: 21  score: 1.0\n",
      "k: 23  score: 1.0\n",
      "k: 25  score: 0.9666666666666667\n",
      "k: 27  score: 1.0\n",
      "k: 29  score: 0.9666666666666667\n"
     ]
    }
   ],
   "source": [
    "for k in range(3,30,2):\n",
    "    knn = KNeighborsClassifier(n_neighbors=k)\n",
    "    knn.fit(Xtrain, ytrain)\n",
    "    ypred = knn.predict(Xtest)\n",
    "    score = accuracy_score(ypred, ytest)\n",
    "    print(\"k:\",k,\" score:\",score)"
   ]
  },
  {
   "cell_type": "code",
   "execution_count": 45,
   "id": "1579135d",
   "metadata": {},
   "outputs": [
    {
     "data": {
      "text/plain": [
       "[<matplotlib.lines.Line2D at 0x7f9cd81b6fd0>]"
      ]
     },
     "execution_count": 45,
     "metadata": {},
     "output_type": "execute_result"
    },
    {
     "data": {
      "image/png": "[encoded data removed]",
      "text/plain": [
       "<Figure size 432x288 with 1 Axes>"
      ]
     },
     "metadata": {
      "needs_background": "light"
     },
     "output_type": "display_data"
    }
   ],
   "source": [
    "import matplotlib.pyplot as plt\n",
    "ks = []\n",
    "scores =[]\n",
    "for k in range(3,30,2):\n",
    "    ks.append(k)\n",
    "    knn = KNeighborsClassifier(n_neighbors=k)\n",
    "    knn.fit(Xtrain, ytrain)\n",
    "    ypred = knn.predict(Xtest)\n",
    "    score = accuracy_score(ypred, ytest)\n",
    "    scores.append(score)\n",
    "plt.plot(ks, scores)"
   ]
  },
  {
   "cell_type": "code",
   "execution_count": 40,
   "id": "22be0ddb",
   "metadata": {},
   "outputs": [
    {
     "ename": "AttributeError",
     "evalue": "'list' object has no attribute 'add'",
     "output_type": "error",
     "traceback": [
      "\u001b[0;31m-----------------------------------------------------------------\u001b[0m",
      "\u001b[0;31mAttributeError\u001b[0m                  Traceback (most recent call last)",
      "\u001b[0;32m<ipython-input-40-99a055e495b6>\u001b[0m in \u001b[0;36m<module>\u001b[0;34m\u001b[0m\n\u001b[1;32m      1\u001b[0m \u001b[0ml\u001b[0m \u001b[0;34m=\u001b[0m\u001b[0;34m[\u001b[0m\u001b[0;34m]\u001b[0m\u001b[0;34m\u001b[0m\u001b[0;34m\u001b[0m\u001b[0m\n\u001b[0;32m----> 2\u001b[0;31m \u001b[0ml\u001b[0m\u001b[0;34m.\u001b[0m\u001b[0madd\u001b[0m\u001b[0;34m(\u001b[0m\u001b[0;36m2\u001b[0m\u001b[0;34m)\u001b[0m\u001b[0;34m\u001b[0m\u001b[0;34m\u001b[0m\u001b[0m\n\u001b[0m",
      "\u001b[0;31mAttributeError\u001b[0m: 'list' object has no attribute 'add'"
     ]
    }
   ],
   "source": []
  }
 ],
 "metadata": {
  "kernelspec": {
   "display_name": "Python 3",
   "language": "python",
   "name": "python3"
  },
  "language_info": {
   "codemirror_mode": {
    "name": "ipython",
    "version": 3
   },
   "file_extension": ".py",
   "mimetype": "text/x-python",
   "name": "python",
   "nbconvert_exporter": "python",
   "pygments_lexer": "ipython3",
   "version": "3.8.8"
  }
 },
 "nbformat": 4,
 "nbformat_minor": 5
}
