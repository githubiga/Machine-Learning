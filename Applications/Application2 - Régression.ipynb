{
 "cells": [
  {
   "cell_type": "markdown",
   "id": "c198aacb",
   "metadata": {},
   "source": [
    "# Premiers pas avec Scikit-learn\n",
    "**Application 2** : Régression avec la **La régression linéaire**\n",
    "<br>\n",
    "Email : <a href='mailto:madani.a@ucd.ac.ma'>madani.a@ucd.ac.ma</a>\n",
    "<img src='../images/robot.png'>"
   ]
  },
  {
   "cell_type": "markdown",
   "id": "5cb644fd",
   "metadata": {},
   "source": [
    "## Objectif"
   ]
  },
  {
   "cell_type": "markdown",
   "id": "1d781e14",
   "metadata": {},
   "source": [
    "L'objectif de cet atelier est d'utiliser un modèle de régression linéaire pour prédire les prix des maisons en Californie en fonction de diverses caractéristiques. Le dataset **California Housing** n'est pas disponible dans le module **datasets** (comme pour le cas du dataset Boston) de scikit-learn. Cependant, vous pouvez toujours y accéder en utilisant d'autres méthodes. Par exemple, vous pouvez utiliser la fonction suivante :"
   ]
  },
  {
   "cell_type": "code",
   "execution_count": 1,
   "id": "a3e598be",
   "metadata": {},
   "outputs": [],
   "source": [
    "from sklearn.datasets import fetch_california_housing\n",
    "from sklearn.metrics import mean_absolute_error, mean_squared_error, r2_score\n",
    "from sklearn.linear_model import LinearRegression\n",
    "#...."
   ]
  },
  {
   "cell_type": "markdown",
   "id": "2e85c3f7",
   "metadata": {},
   "source": [
    "1. Charger le dataset \"load california\"\n",
    "\n",
    "\n",
    "2. afficher la variable housing, les clés, les données, la cible, ...\n",
    "\n",
    "\n",
    "3. Diviser les données en caractéristiques (X) et la cible (y)\n",
    "\n",
    "\n",
    "4. Diviser les données en ensembles d'entraînement et de test\n",
    "\n",
    "\n",
    "5. Créer un modèle de régression linéaire\n",
    "\n",
    "\n",
    "6. Adapter le modèle aux données d'entraînement\n",
    "\n",
    "\n",
    "7. Faire des prédictions sur les données de test\n",
    "\n",
    "\n",
    "8. Calculer le RMSE (Root Mean Squared Error), le MAE (Mean Absolute Error) et le R²\n"
   ]
  }
 ],
 "metadata": {
  "kernelspec": {
   "display_name": "Python 3",
   "language": "python",
   "name": "python3"
  },
  "language_info": {
   "codemirror_mode": {
    "name": "ipython",
    "version": 3
   },
   "file_extension": ".py",
   "mimetype": "text/x-python",
   "name": "python",
   "nbconvert_exporter": "python",
   "pygments_lexer": "ipython3",
   "version": "3.8.8"
  }
 },
 "nbformat": 4,
 "nbformat_minor": 5
}
