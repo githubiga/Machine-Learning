{
 "cells": [
  {
   "cell_type": "markdown",
   "id": "c198aacb",
   "metadata": {},
   "source": [
    "# Premiers pas avec Scikit-learn\n",
    "**Application 2** : Régression avec la **La régression linéaire**\n",
    "<br>\n",
    "Email : <a href='mailto:madani.a@ucd.ac.ma'>madani.a@ucd.ac.ma</a>\n",
    "<img src='../images/robot.png'>"
   ]
  },
  {
   "cell_type": "markdown",
   "id": "5cb644fd",
   "metadata": {},
   "source": [
    "## Objectif"
   ]
  },
  {
   "cell_type": "markdown",
   "id": "1d781e14",
   "metadata": {},
   "source": [
    "L'objectif de cet atelier est d'utiliser un modèle de régression linéaire pour prédire les prix des maisons en Californie en fonction de diverses caractéristiques. Le dataset **California Housing** n'est pas disponible dans le module **datasets** (comme pour le cas du dataset Boston) de scikit-learn. Cependant, vous pouvez toujours y accéder en utilisant d'autres méthodes. Par exemple, vous pouvez utiliser la fonction suivante :"
   ]
  },
  {
   "cell_type": "code",
   "execution_count": 12,
   "id": "a3e598be",
   "metadata": {},
   "outputs": [],
   "source": [
    "from sklearn.datasets import fetch_california_housing\n",
    "from sklearn.metrics import mean_absolute_error, mean_squared_error, r2_score\n",
    "from sklearn.linear_model import LinearRegression\n",
    "from sklearn.model_selection import train_test_split"
   ]
  },
  {
   "cell_type": "markdown",
   "id": "2e85c3f7",
   "metadata": {},
   "source": [
    "1. Charger le dataset \"load california\"\n",
    "\n",
    "\n",
    "2. afficher la variable housing, les clés, les données, la cible, ...\n",
    "\n",
    "\n",
    "3. Diviser les données en caractéristiques (X) et la cible (y)\n",
    "\n",
    "\n",
    "4. Diviser les données en ensembles d'entraînement et de test\n",
    "\n",
    "\n",
    "5. Créer un modèle de régression linéaire\n",
    "\n",
    "\n",
    "6. Adapter le modèle aux données d'entraînement\n",
    "\n",
    "\n",
    "7. Faire des prédictions sur les données de test\n",
    "\n",
    "\n",
    "8. Calculer le RMSE (Root Mean Squared Error), le MAE (Mean Absolute Error) et le R²\n"
   ]
  },
  {
   "cell_type": "code",
   "execution_count": 18,
   "id": "cbcff99c",
   "metadata": {},
   "outputs": [],
   "source": [
    "#1.\n",
    "house = fetch_california_housing()"
   ]
  },
  {
   "cell_type": "code",
   "execution_count": null,
   "id": "494a3625",
   "metadata": {},
   "outputs": [],
   "source": [
    "#2.\n",
    "print(\"Clés \", house.keys())\n",
    "print(\"Les données :\",house.data)\n",
    "print(\"Les classes, les targets, les labels, les sorties :\",house.target)"
   ]
  },
  {
   "cell_type": "code",
   "execution_count": null,
   "id": "3084b000",
   "metadata": {},
   "outputs": [],
   "source": [
    "#3.\n",
    "X = house.data\n",
    "y = house.target\n"
   ]
  },
  {
   "cell_type": "code",
   "execution_count": null,
   "id": "58511751",
   "metadata": {},
   "outputs": [],
   "source": [
    "#4.\n",
    "Xtrain, Xtest, ytrain,ytest = train_test_split(X, y, train_size=.8)\n",
    "Xtrain.shape, Xtest.shape,ytrain.shape, ytest.shape"
   ]
  },
  {
   "cell_type": "code",
   "execution_count": null,
   "id": "c53c0d2a",
   "metadata": {},
   "outputs": [],
   "source": [
    "#5.\n",
    "model = LinearRegression()"
   ]
  },
  {
   "cell_type": "code",
   "execution_count": null,
   "id": "19b364c2",
   "metadata": {},
   "outputs": [],
   "source": [
    "#6.\n",
    "model.fit(Xtrain,ytrain)"
   ]
  },
  {
   "cell_type": "code",
   "execution_count": null,
   "id": "0362f3c1",
   "metadata": {},
   "outputs": [],
   "source": [
    "#7.\n",
    "ypred = model.predict(Xtest)"
   ]
  },
  {
   "cell_type": "code",
   "execution_count": null,
   "id": "64b93427",
   "metadata": {},
   "outputs": [],
   "source": [
    "#8.\n",
    "mean_absolute_error(ypred,ytest)"
   ]
  },
  {
   "cell_type": "code",
   "execution_count": null,
   "id": "eb55440f",
   "metadata": {},
   "outputs": [],
   "source": [
    "mean_squared_error(ypred,ytest)"
   ]
  },
  {
   "cell_type": "code",
   "execution_count": null,
   "id": "e8b308a7",
   "metadata": {},
   "outputs": [],
   "source": [
    "r2_score(ypred,ytest)"
   ]
  },
  {
   "cell_type": "code",
   "execution_count": null,
   "id": "85cdbf14",
   "metadata": {},
   "outputs": [],
   "source": []
  },
  {
   "cell_type": "code",
   "execution_count": null,
   "id": "591cd810",
   "metadata": {},
   "outputs": [],
   "source": []
  },
  {
   "cell_type": "code",
   "execution_count": null,
   "id": "7564c8bb",
   "metadata": {},
   "outputs": [],
   "source": []
  },
  {
   "cell_type": "code",
   "execution_count": null,
   "id": "a764d8ae",
   "metadata": {},
   "outputs": [],
   "source": []
  },
  {
   "cell_type": "code",
   "execution_count": null,
   "id": "29d89be4",
   "metadata": {},
   "outputs": [],
   "source": []
  }
 ],
 "metadata": {
  "kernelspec": {
   "display_name": "Python 3",
   "language": "python",
   "name": "python3"
  },
  "language_info": {
   "codemirror_mode": {
    "name": "ipython",
    "version": 3
   },
   "file_extension": ".py",
   "mimetype": "text/x-python",
   "name": "python",
   "nbconvert_exporter": "python",
   "pygments_lexer": "ipython3",
   "version": "3.8.8"
  }
 },
 "nbformat": 4,
 "nbformat_minor": 5
}
