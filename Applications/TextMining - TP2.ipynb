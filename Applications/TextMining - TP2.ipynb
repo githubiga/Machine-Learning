{
 "cells": [
  {
   "cell_type": "markdown",
   "id": "7f463edd",
   "metadata": {},
   "source": [
    "# Textmining : text classification\n",
    "### Spam Classification based on raw data\n",
    "<a href=\"madani.a@ucd.ac.ma\">madani.a@ucd.ac.ma</a>"
   ]
  },
  {
   "cell_type": "markdown",
   "id": "b9464ffb",
   "metadata": {},
   "source": [
    "## Objectif du TP"
   ]
  },
  {
   "cell_type": "markdown",
   "id": "a4d3be32",
   "metadata": {},
   "source": [
    "L'objectif de ce TP est de partir des données brutes, faire le processing pour enfin entraîner un modèle de classification (Régression logistique, par exemple). Le modèle entrainé doit être persisté sur le disque pour pouvoir l'utiliser dans d'autres situations pour faire des prédictions."
   ]
  },
  {
   "cell_type": "markdown",
   "id": "d9df4941",
   "metadata": {},
   "source": [
    "Le dataset utilisé est disponible en ligne à l'adresse suivante : https://raw.githubusercontent.com/mohitgupta-omg/Kaggle-SMS-Spam-Collection-Dataset-/master/spam.csv"
   ]
  },
  {
   "cell_type": "markdown",
   "id": "2a3aa90a",
   "metadata": {},
   "source": [
    "## Travail à faire"
   ]
  },
  {
   "cell_type": "markdown",
   "id": "2b7c76f2",
   "metadata": {},
   "source": [
    "1. Importer les données des emails dans un dataframe (data, par exemple)\n",
    "\n",
    "2. Afficher la structure de data\n",
    "\n",
    "3. Afficher les 5 premières lignes de data\n",
    "\n",
    "4. Afficher les colonnes de data\n",
    "\n",
    "5. Garder seulement les colonnes contenant le message et le label\n",
    "\n",
    "6. Afficher le nombre de messages par label\n",
    "\n",
    "7. Vérifier s'il y a des valeurs manquantes\n",
    "\n",
    "8. Nettoyer les messages en utilisant les étapes suivantes :\n",
    "\n",
    "    8.1. Supprimer les caractères spéciaux (Vous laissez seulement les lettres de l'alphabet)\n",
    "    \n",
    "    8.2. Convertir en minuscule tout le texte\n",
    "    \n",
    "    8.3. Tokenize\n",
    "    \n",
    "    8.4. Supprimer les stopwords\n",
    "    \n",
    "    8.5. Utiliser un stemmer de votre choix\n",
    "\n",
    "9. Utiliser la méthode hold out pour diviser votre dataset en deux parties : entraînement et test\n",
    "\n",
    "10. Utiliser TF/TFIDF pour obtenir les feaures\n",
    "\n",
    "11. Utiliser la régression logistique pour entrainer et tester votre modèle\n",
    "\n",
    "12. Persister votre modèle pour faire des prédictions ultérieures"
   ]
  },
  {
   "cell_type": "code",
   "execution_count": null,
   "id": "c36e12ab",
   "metadata": {},
   "outputs": [],
   "source": []
  }
 ],
 "metadata": {
  "kernelspec": {
   "display_name": "Python 3",
   "language": "python",
   "name": "python3"
  },
  "language_info": {
   "codemirror_mode": {
    "name": "ipython",
    "version": 3
   },
   "file_extension": ".py",
   "mimetype": "text/x-python",
   "name": "python",
   "nbconvert_exporter": "python",
   "pygments_lexer": "ipython3",
   "version": "3.8.8"
  }
 },
 "nbformat": 4,
 "nbformat_minor": 5
}
