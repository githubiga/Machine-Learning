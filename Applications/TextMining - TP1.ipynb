{
 "cells": [
  {
   "cell_type": "markdown",
   "id": "089d9a33",
   "metadata": {},
   "source": [
    "# Textmining : text classification\n",
    "### Cyberbullying Classification Using some Machine Learning Algorithms\n",
    "<a href=\"madani.a@ucd.ac.ma\">madani.a@ucd.ac.ma</a>"
   ]
  },
  {
   "cell_type": "markdown",
   "id": "7c449569",
   "metadata": {},
   "source": [
    "**TP à rendre à la fin de la séance**"
   ]
  },
  {
   "cell_type": "markdown",
   "id": "f2e0c77e",
   "metadata": {},
   "source": [
    "## Objectif du TP"
   ]
  },
  {
   "cell_type": "markdown",
   "id": "bf09aa15",
   "metadata": {},
   "source": [
    "L'objectif de ce TP est de tester plusieurs modèles de classification sur du texte. Pour cela, on considère le dataset <b>cyberbullying1.csv</b> (récupéré à partir du github partagé) contenant 1413 messages ayant chacun un label indiquant s'il s'agit d'un bullying (1) ou non (0)."
   ]
  },
  {
   "cell_type": "markdown",
   "id": "8be91859",
   "metadata": {},
   "source": [
    "## Travail à faire"
   ]
  },
  {
   "cell_type": "markdown",
   "id": "b69c4eb9",
   "metadata": {},
   "source": [
    "1. Utiliser pandas pour charger le dataset dans un DataFrame\n",
    "2. Afficher les colonnes du DataFrame\n",
    "3. Afficher le nombre de messages de chaque classe\n",
    "4. Dans une variable <b>corpus</b> récupérer les messages nettoyés (colonne transformed_Message)\n",
    "5. Dans une variable <b>labels</b> récupérer les labels des messages\n",
    "6. Créer les matrices <b>TF</b> et <b>TF-IDF</b>. Fixer le nombre maximum de features à 100, les tokens à considérer sont les mots.\n",
    "7. Utiliser <b>KNN</b> et <b>SVM</b> avec les hyperparamètres par défaut pour faire l'entraînement et l'évaluation\n",
    "8. Calculer le score chaque modèle (Vous pouvez consulter https://scikit-learn.org/stable/modules/model_evaluation.html#scoring-parameter pour la liste des métriques d'évaluation)\n",
    "9. Faire le fine tuning des algorithmes précédents en utilisant <b>GridSearchCV</b>, et comparer les nouveaux scores avec les scores précédents.\n",
    "    1. Pour SVM, considérer les paramètres suivants :\n",
    "'C': [0.1,1, 10, 100], 'gamma': [1,0.1,0.01,0.001],'kernel': ['rbf', 'poly', 'sigmoid']\n",
    "    2. Pour KNN, considérer les paramètres suivants :\n",
    "    'n_neighbors': (1,10, 2),\n",
    "    'leaf_size': (20,40,1),\n",
    "    'p': (1,2),\n",
    "    'weights': ('uniform', 'distance'),\n",
    "    'metric': ('minkowski', 'chebyshev')\n",
    "10. Refaire les question 6. à 9. pour les bigram et trigram\n",
    "11. Résumer dans un tableau, la comparaison des différents résultats trouvés."
   ]
  }
 ],
 "metadata": {
  "kernelspec": {
   "display_name": "Python 3",
   "language": "python",
   "name": "python3"
  },
  "language_info": {
   "codemirror_mode": {
    "name": "ipython",
    "version": 3
   },
   "file_extension": ".py",
   "mimetype": "text/x-python",
   "name": "python",
   "nbconvert_exporter": "python",
   "pygments_lexer": "ipython3",
   "version": "3.8.8"
  }
 },
 "nbformat": 4,
 "nbformat_minor": 5
}
